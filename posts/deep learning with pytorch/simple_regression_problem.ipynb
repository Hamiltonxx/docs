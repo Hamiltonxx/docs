{
 "cells": [
  {
   "cell_type": "code",
   "execution_count": 2,
   "metadata": {},
   "outputs": [],
   "source": [
    "import numpy as np\n",
    "from sklearn.linear_model import LinearRegression\n",
    "import torch \n",
    "import torch.optim as optim \n",
    "import torch.nn as nn\n",
    "from torchviz import make_dot\n"
   ]
  },
  {
   "attachments": {},
   "cell_type": "markdown",
   "metadata": {},
   "source": [
    "仍旧从最简单的只有一个特征x的线性回归问题开始。\n",
    "\n",
    "\\begin{gather} y = b + wx + \\epsilon \\end{gather}\n",
    "我们也可以把它看作最简单的神经网络,单一输入，单一输出，没有激活函数。"
   ]
  },
  {
   "cell_type": "code",
   "execution_count": 3,
   "metadata": {},
   "outputs": [],
   "source": [
    "# Synthetic Data Generation\n",
    "true_b = 1\n",
    "true_w = 2\n",
    "N = 100\n",
    "np.random.seed(42)\n",
    "\n",
    "x = np.random.rand(N,1)\n",
    "epsilon = .1 * np.random.randn(N,1)\n",
    "y = true_b + true_w * x + epsilon\n",
    "\n",
    "# Split the synthetic data into train and validation sets.\n",
    "idx = np.arange(N)\n",
    "np.random.shuffle(idx)\n",
    "train_idx = idx[:int(N*.8)]\n",
    "val_idx = idx[int(N*.8):]\n",
    "x_train,y_train = x[train_idx],y[train_idx]\n",
    "x_val,y_val = x[val_idx,],y[val_idx]"
   ]
  },
  {
   "cell_type": "code",
   "execution_count": 4,
   "metadata": {},
   "outputs": [
    {
     "name": "stdout",
     "output_type": "stream",
     "text": [
      "[0.49671415] [-0.1382643]\n"
     ]
    }
   ],
   "source": [
    "# step0 - random initialization\n",
    "np.random.seed(42)\n",
    "b = np.random.randn(1)\n",
    "w = np.random.randn(1)\n",
    "print(b,w)\n",
    "\n",
    "# step1 - compute model's predictions\n",
    "yhat = b + w * x_train\n",
    "\n",
    "# step2 - compute the loss\n",
    "error = yhat - y_train\n",
    "loss = (error ** 2).mean()\n",
    "print(loss)\n",
    "\n",
    "# step3 - compute the gradients\n",
    "b_grad = 2 * error.mean()\n",
    "w_grad = 2 * (x_train * error).mean()\n",
    "print(b_grad, w_grad)\n",
    "\n",
    "# step4 - update the parameters\n",
    "lr = 0.1\n",
    "print(b,w)\n",
    "b = b - lr * b_grad \n",
    "w = w - lr * w_grad \n",
    "print(b,w)\n",
    "\n",
    "# step5 - rinse and repeat\n",
    "# use the updated parameters to go back to step1 and restart the process\n",
    "# Repeating this process for many epochs = training a model\n"
   ]
  },
  {
   "attachments": {},
   "cell_type": "markdown",
   "metadata": {},
   "source": [
    "四步训练法:  \n",
    "1. compute predictions\n",
    "2. compute loss \n",
    "3. compute gradients\n",
    "4. update parameters\n",
    "\n",
    "如果要训练模型1000 epochs,只需要加个循环即可"
   ]
  },
  {
   "cell_type": "code",
   "execution_count": 4,
   "metadata": {},
   "outputs": [
    {
     "name": "stdout",
     "output_type": "stream",
     "text": [
      "[0.49671415] [-0.1382643]\n",
      "[1.02354094] [1.96896411]\n"
     ]
    }
   ],
   "source": [
    "np.random.seed(42)\n",
    "b = np.random.randn(1)\n",
    "w = np.random.randn(1)\n",
    "print(b,w)\n",
    "\n",
    "lr = 0.1\n",
    "n_epochs = 1000\n",
    "for epoch in range(n_epochs):\n",
    "    yhat = b + w * x_train\n",
    "    error = yhat - y_train \n",
    "    loss = (error ** 2).mean()\n",
    "    b_grad = 2 * error.mean()\n",
    "    w_grad = 2 * (x_train * error).mean()\n",
    "    b = b - lr * b_grad \n",
    "    w = w - lr * w_grad \n",
    "\n",
    "print(b,w)"
   ]
  },
  {
   "cell_type": "code",
   "execution_count": 5,
   "metadata": {},
   "outputs": [
    {
     "name": "stdout",
     "output_type": "stream",
     "text": [
      "[1.02354075] [1.96896447]\n"
     ]
    }
   ],
   "source": [
    "linr = LinearRegression()\n",
    "linr.fit(x_train,y_train)\n",
    "print(linr.intercept_,linr.coef_[0])"
   ]
  }
 ],
 "metadata": {
  "kernelspec": {
   "display_name": "venv",
   "language": "python",
   "name": "python3"
  },
  "language_info": {
   "codemirror_mode": {
    "name": "ipython",
    "version": 3
   },
   "file_extension": ".py",
   "mimetype": "text/x-python",
   "name": "python",
   "nbconvert_exporter": "python",
   "pygments_lexer": "ipython3",
   "version": "3.10.6"
  },
  "orig_nbformat": 4
 },
 "nbformat": 4,
 "nbformat_minor": 2
}
