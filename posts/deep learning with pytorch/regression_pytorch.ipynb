{
 "cells": [
  {
   "attachments": {},
   "cell_type": "markdown",
   "metadata": {},
   "source": [
    "# Pytorch\n",
    "## Tensor\n",
    "1. scalar: 0维，数字\n",
    "2. vector: 1维\n",
    "3. matrix: 2维\n",
    "4. tensor: 3维或更多\n",
    "\n",
    "为了简便起见，我们把vector和matrix也叫做tensor.  \n",
    "tensor()既能创建scalar也能创建tensor. Pytorch里的tensor和numpy很像。"
   ]
  },
  {
   "cell_type": "code",
   "execution_count": 3,
   "metadata": {},
   "outputs": [
    {
     "name": "stdout",
     "output_type": "stream",
     "text": [
      "tensor([[[-1.3585,  1.2498,  0.9362, -0.4114],\n",
      "         [ 0.9053, -0.4949, -0.8376,  1.5091],\n",
      "         [-0.1211,  2.6087, -0.0129,  1.9131]],\n",
      "\n",
      "        [[ 1.3920,  0.5701,  0.3690, -0.6954],\n",
      "         [ 1.0588, -0.5522, -1.3058,  0.0103],\n",
      "         [-0.9186, -1.0471, -0.6099,  2.0403]]])\n",
      "torch.Size([2, 3, 4]) torch.Size([2, 3, 4])\n",
      "torch.Size([3]) torch.Size([3])\n",
      "torch.Size([]) torch.Size([])\n"
     ]
    }
   ],
   "source": [
    "import torch\n",
    "scalar = torch.tensor(3.14159)\n",
    "vector = torch.tensor([1,2,3])\n",
    "matrix = torch.ones((2,3), dtype=torch.float)\n",
    "tensor = torch.randn((2,3,4), dtype=torch.float)\n",
    "print(tensor)\n",
    "print(tensor.size(), tensor.shape)\n",
    "print(vector.size(), vector.shape)\n",
    "print(scalar.size(), scalar.shape)"
   ]
  },
  {
   "cell_type": "code",
   "execution_count": 5,
   "metadata": {},
   "outputs": [
    {
     "name": "stdout",
     "output_type": "stream",
     "text": [
      "tensor([[1., 2., 1., 1., 1., 1.]])\n",
      "tensor([[1., 2., 1., 1., 1., 1.]])\n",
      "tensor([[1., 2., 1., 1., 1., 1.]])\n"
     ]
    }
   ],
   "source": [
    "same_matrix = matrix.view(1,6)\n",
    "print(same_matrix)\n",
    "same_matrix[0,1]=2\n",
    "print(same_matrix)\n",
    "another_matrix = same_matrix.clone().detach() # duplicate the data\n",
    "print(another_matrix)"
   ]
  }
 ],
 "metadata": {
  "kernelspec": {
   "display_name": "venv",
   "language": "python",
   "name": "python3"
  },
  "language_info": {
   "codemirror_mode": {
    "name": "ipython",
    "version": 3
   },
   "file_extension": ".py",
   "mimetype": "text/x-python",
   "name": "python",
   "nbconvert_exporter": "python",
   "pygments_lexer": "ipython3",
   "version": "3.10.6"
  },
  "orig_nbformat": 4
 },
 "nbformat": 4,
 "nbformat_minor": 2
}
