{
 "cells": [
  {
   "attachments": {},
   "cell_type": "markdown",
   "metadata": {},
   "source": [
    "# Pytorch\n",
    "## Tensor\n",
    "1. scalar: 0维，数字\n",
    "2. vector: 1维\n",
    "3. matrix: 2维\n",
    "4. tensor: 3维或更多\n",
    "\n",
    "为了简便起见，我们把vector和matrix也叫做tensor.  \n",
    "tensor()既能创建scalar也能创建tensor. Pytorch里的tensor和numpy很像。"
   ]
  },
  {
   "cell_type": "code",
   "execution_count": 2,
   "metadata": {},
   "outputs": [
    {
     "name": "stdout",
     "output_type": "stream",
     "text": [
      "tensor([[[ 1.8800,  0.7844,  0.2366,  0.1843],\n",
      "         [ 0.7413,  0.6363,  0.7394,  0.8137],\n",
      "         [-1.0529,  0.6909,  0.4633,  0.4748]],\n",
      "\n",
      "        [[-1.1020,  0.2785,  1.6564,  1.3391],\n",
      "         [ 1.1269,  0.1828, -0.3148, -0.3454],\n",
      "         [-0.2529,  0.1099,  1.3951, -1.2532]]])\n",
      "torch.Size([2, 3, 4]) torch.Size([2, 3, 4])\n",
      "torch.Size([3]) torch.Size([3])\n",
      "torch.Size([]) torch.Size([])\n"
     ]
    }
   ],
   "source": [
    "import torch\n",
    "scalar = torch.tensor(3.14159)\n",
    "vector = torch.tensor([1,2,3])\n",
    "matrix = torch.ones((2,3), dtype=torch.float)\n",
    "tensor = torch.randn((2,3,4), dtype=torch.float)\n",
    "print(tensor)\n",
    "print(tensor.size(), tensor.shape)\n",
    "print(vector.size(), vector.shape)\n",
    "print(scalar.size(), scalar.shape)"
   ]
  },
  {
   "cell_type": "code",
   "execution_count": 5,
   "metadata": {},
   "outputs": [
    {
     "name": "stdout",
     "output_type": "stream",
     "text": [
      "tensor([[1., 2., 1., 1., 1., 1.]])\n",
      "tensor([[1., 2., 1., 1., 1., 1.]])\n",
      "tensor([[1., 2., 1., 1., 1., 1.]])\n"
     ]
    }
   ],
   "source": [
    "same_matrix = matrix.view(1,6)\n",
    "print(same_matrix)\n",
    "same_matrix[0,1]=2\n",
    "print(same_matrix)\n",
    "another_matrix = same_matrix.clone().detach() # duplicate the data\n",
    "print(another_matrix)"
   ]
  },
  {
   "attachments": {},
   "cell_type": "markdown",
   "metadata": {},
   "source": [
    "## CUDA\n",
    "我们可以用torch.as_tensor()很方便地把numpy数组转成tensor."
   ]
  },
  {
   "cell_type": "code",
   "execution_count": 4,
   "metadata": {},
   "outputs": [
    {
     "data": {
      "text/plain": [
       "tensor([1, 0, 3])"
      ]
     },
     "execution_count": 4,
     "metadata": {},
     "output_type": "execute_result"
    }
   ],
   "source": [
    "import numpy as np\n",
    "dummy_array = np.array([1,2,3])\n",
    "dummy_tensor = torch.as_tensor(dummy_array)\n",
    "dummy_array[1]=0\n",
    "dummy_tensor\n",
    "# 注意这里是改引用而不是改拷贝。这也是我们不用torch.tensor()的原因"
   ]
  },
  {
   "attachments": {},
   "cell_type": "markdown",
   "metadata": {},
   "source": [
    "以上我们只是创建了CPU tensor，接下来我们使用GPU.显然GPU可以加速模型训练。  "
   ]
  },
  {
   "cell_type": "code",
   "execution_count": 7,
   "metadata": {},
   "outputs": [
    {
     "name": "stdout",
     "output_type": "stream",
     "text": [
      "cuda\n",
      "NVIDIA GeForce GTX 1060 6GB\n"
     ]
    },
    {
     "data": {
      "text/plain": [
       "tensor(1, device='cuda:0')"
      ]
     },
     "execution_count": 7,
     "metadata": {},
     "output_type": "execute_result"
    }
   ],
   "source": [
    "# 查看GPU\n",
    "device = 'cuda' if torch.cuda.is_available() else 'cpu'\n",
    "print(device)\n",
    "print(torch.cuda.get_device_name(0))\n",
    "\n",
    "# 把cpu tensor转成gpu tensor\n",
    "gpu_tensor = torch.as_tensor(dummy_array).to(device)\n",
    "gpu_tensor[0]"
   ]
  },
  {
   "cell_type": "code",
   "execution_count": 8,
   "metadata": {},
   "outputs": [],
   "source": [
    "# Synthetic Data Generation\n",
    "true_b = 1\n",
    "true_w = 2\n",
    "N = 100\n",
    "np.random.seed(42)\n",
    "\n",
    "x = np.random.rand(N,1)\n",
    "epsilon = .1 * np.random.randn(N,1)\n",
    "y = true_b + true_w * x + epsilon\n",
    "\n",
    "# Split the synthetic data into train and validation sets.\n",
    "idx = np.arange(N)\n",
    "np.random.shuffle(idx)\n",
    "train_idx = idx[:int(N*.8)]\n",
    "val_idx = idx[int(N*.8):]\n",
    "x_train,y_train = x[train_idx],y[train_idx]\n",
    "x_val,y_val = x[val_idx,],y[val_idx]"
   ]
  },
  {
   "cell_type": "code",
   "execution_count": 9,
   "metadata": {},
   "outputs": [
    {
     "name": "stdout",
     "output_type": "stream",
     "text": [
      "<class 'numpy.ndarray'> <class 'torch.Tensor'> torch.cuda.FloatTensor\n"
     ]
    }
   ],
   "source": [
    "x_train_tensor = torch.as_tensor(x_train).float().to(device)\n",
    "y_train_tensor = torch.as_tensor(y_train).float().to(device)\n",
    "print(type(x_train), type(x_train_tensor), x_train_tensor.type())\n",
    "# 用tensor_val.type()可以告诉你这是GPU tenso=1"
   ]
  },
  {
   "cell_type": "code",
   "execution_count": 10,
   "metadata": {},
   "outputs": [
    {
     "name": "stdout",
     "output_type": "stream",
     "text": [
      "tensor([0.1940], device='cuda:0', requires_grad=True) tensor([0.1391], device='cuda:0', requires_grad=True)\n"
     ]
    }
   ],
   "source": [
    "# step0 - initialize parameters\n",
    "# 变量在创建时就指定好device\n",
    "torch.manual_seed(42)\n",
    "b = torch.randn(1, requires_grad=True, dtype=torch.float, device=device)\n",
    "w = torch.randn(1, requires_grad=True, dtype=torch.float, device=device)\n",
    "print(b,w)"
   ]
  }
 ],
 "metadata": {
  "kernelspec": {
   "display_name": "venv",
   "language": "python",
   "name": "python3"
  },
  "language_info": {
   "codemirror_mode": {
    "name": "ipython",
    "version": 3
   },
   "file_extension": ".py",
   "mimetype": "text/x-python",
   "name": "python",
   "nbconvert_exporter": "python",
   "pygments_lexer": "ipython3",
   "version": "3.10.6"
  },
  "orig_nbformat": 4
 },
 "nbformat": 4,
 "nbformat_minor": 2
}
