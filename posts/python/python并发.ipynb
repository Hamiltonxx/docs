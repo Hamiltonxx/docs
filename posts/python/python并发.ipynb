{
 "cells": [
  {
   "attachments": {},
   "cell_type": "markdown",
   "metadata": {},
   "source": [
    "Python并发包含多线程、多进程和异步IO三块内容。我们需要掌握  \n",
    "1. 用并发技术创建高性能和响应式的python应用\n",
    "2. 开发多线程应用  \n",
    "3. 开发能并行处理多任务的应用\n",
    "4. 理解单线程里的并发模型\n",
    "\n",
    "# Multithreading\n",
    "## 多进程和多线程的差异\n",
    "| Criteria | Process | Thread |\n",
    "| --- | --- | --- |\n",
    "| Memeory Sharing | Memory is not shared between processes | Memory is shared between threads within a process | \n",
    "| Memeory footprint | Large | Small |\n",
    "| CPU-bound / IO-bound | CPU bound | IO bound |\n",
    "| Starting time | Slower than a thread | Faster than a process |\n",
    "| Interruptablity | Child processes are interruptible | Threads are not interruptible |\n",
    "## Threading\n"
   ]
  },
  {
   "cell_type": "code",
   "execution_count": 2,
   "metadata": {},
   "outputs": [
    {
     "name": "stdout",
     "output_type": "stream",
     "text": [
      "Starting a task...\n",
      "done\n",
      "Starting a task...\n",
      "done\n",
      "It took  2.00 seconds\n"
     ]
    }
   ],
   "source": [
    "from time import sleep, perf_counter\n",
    "\n",
    "def task():\n",
    "    print('Starting a task...')\n",
    "    sleep(1)\n",
    "    print('done')\n",
    "\n",
    "start_time = perf_counter()\n",
    "task()\n",
    "task()\n",
    "end_time = perf_counter()\n",
    "print(f'It took {end_time-start_time: 0.2f} seconds')"
   ]
  },
  {
   "cell_type": "code",
   "execution_count": 4,
   "metadata": {},
   "outputs": [
    {
     "name": "stdout",
     "output_type": "stream",
     "text": [
      "Starting a task...\n",
      "Starting a task...\n",
      "It took  0.00 seconds\n"
     ]
    },
    {
     "name": "stdout",
     "output_type": "stream",
     "text": [
      "done\n",
      "done\n"
     ]
    }
   ],
   "source": [
    "from threading import Thread \n",
    "# new_thread = Thread(target=fn,args=args_tuple)\n",
    "# new_thread.start()\n",
    "## To let the thread complete in the main thread\n",
    "# new_thread.join()\n",
    "## The main thread will wait for the second thread to complete before it is terminated.\n",
    "start_time = perf_counter()\n",
    "t1 = Thread(target=task)\n",
    "t2 = Thread(target=task)\n",
    "t1.start()\n",
    "t2.start()\n",
    "t1.join()\n",
    "t2.join()\n",
    "end_time = perf_counter()\n",
    "print(f'It took {end_time-start_time: 0.2f} seconds')"
   ]
  },
  {
   "attachments": {},
   "cell_type": "markdown",
   "metadata": {},
   "source": [
    "上面这个程序会创建三个线程，python解释器创建main线程，程序创建另两个线程."
   ]
  },
  {
   "cell_type": "code",
   "execution_count": 5,
   "metadata": {},
   "outputs": [
    {
     "name": "stdout",
     "output_type": "stream",
     "text": [
      "Starting the task 1...\n",
      "Starting the task 2...\n",
      "Starting the task 3...\n",
      "Starting the task 4...\n",
      "Starting the task 5...\n",
      "Starting the task 6...\n",
      "Starting the task 7...\n",
      "Starting the task 8...\n",
      "Starting the task 9...\n",
      "Starting the task 10...\n",
      "The task 1 completed\n",
      "The task 2 completed\n",
      "The task 3 completed\n",
      "The task 4 completed\n",
      "The task 5 completed\n",
      "The task 6 completed\n",
      "The task 7 completed\n",
      "The task 8 completed\n",
      "The task 9 completed\n",
      "The task 10 completed\n",
      "It took  1.01 seconds\n"
     ]
    }
   ],
   "source": [
    "def task(id):\n",
    "    print(f'Starting the task {id}...')\n",
    "    sleep(1)\n",
    "    print(f'The task {id} completed')\n",
    "    \n",
    "start_time = perf_counter()\n",
    "threads = []\n",
    "for i in range(1,11):\n",
    "    t = Thread(target=task, args=(i,))\n",
    "    threads.append(t)\n",
    "    t.start()\n",
    "    \n",
    "for t in threads:\n",
    "    t.join()\n",
    "end_time = perf_counter()\n",
    "print(f'It took {end_time-start_time: 0.2f} seconds')"
   ]
  },
  {
   "cell_type": "code",
   "execution_count": null,
   "metadata": {},
   "outputs": [],
   "source": [
    "# 示例： 替换多个文件里的字符串\n",
    "from threading import Thread \n",
    "from time import perf_counter\n",
    "\n",
    "def replace(filename, substr, new_substr):\n",
    "    print(f'Processing the file {filename}')\n",
    "    with open(filename, 'r') as f:\n",
    "        content = f.read()\n",
    "    content = content.replace(substr, new_substr)\n",
    "    with open(filename, 'w') as f:\n",
    "        f.write(content)\n",
    "\n",
    "def main():\n",
    "    filenames = [\n",
    "        '~/12.txt',\n",
    "        '~/34.txt',\n",
    "        '~/56.txt',\n",
    "        '~/78.txt',\n",
    "        '~/90.txt',\n",
    "        '~/ab.txt',\n",
    "        '~/cd.txt',\n",
    "        '~/ef.txt',\n",
    "    ]\n",
    "    threads = [Thread(target=replace, args=(filename,'id','ids')) for filename in filenames]\n",
    "    for thread in threads:\n",
    "        thread.start()\n",
    "    for thread in threads:\n",
    "        thread.join()\n",
    "    \n",
    "if __name__ == \"__main__\":\n",
    "    start_time = perf_counter()\n",
    "    main()\n",
    "    end_time = perf_counter()\n",
    "    print(f'It took {end_time-start_time: 0.2f} seconds')"
   ]
  },
  {
   "attachments": {},
   "cell_type": "markdown",
   "metadata": {},
   "source": [
    "## 多线程例子\n",
    "开发一个多线程程序，从Yahoo Finance站点上爬取股票价格。\n",
    "```shell\n",
    "pip install requests lxml\n",
    "```"
   ]
  },
  {
   "cell_type": "code",
   "execution_count": 1,
   "metadata": {},
   "outputs": [],
   "source": [
    "import threading \n",
    "import requests \n",
    "from lxml import html\n",
    "\n",
    "class Stock(threading.Thread):\n",
    "    def __init__(self, symbol:str):\n",
    "        super().__init__()\n",
    "        self.symbol = symbol\n",
    "        self.url = f'https://finance.yahoo.com/quote/{symbol}'\n",
    "        self.price = None \n",
    "\n",
    "    def run(self):\n",
    "        response = requests.get(self.url)\n",
    "        if response.status_code == 200:\n",
    "            tree = html.fromstring(response.text)\n",
    "            price_text = tree.xpath('//*[@id=\"quote-header-info\"]/div[3]/div[1]/div[1]/fin-streamer[1]/text()')\n",
    "            if price_text:\n",
    "                try:\n",
    "                    self.price = float(price_text[0].replace(',',''))\n",
    "                except ValueError:\n",
    "                    self.price = None\n",
    "\n",
    "    def __str__(self):\n",
    "        return f'{self.symbol}\\t{self.price}'     \n"
   ]
  },
  {
   "cell_type": "code",
   "execution_count": null,
   "metadata": {},
   "outputs": [],
   "source": [
    "symbols = ['MSFT','GOOGL','AAPL','META']\n",
    "threads = []\n",
    "\n",
    "for symbol in symbols:\n",
    "    t = Stock(symbol)\n",
    "    t.start()\n",
    "    threads.append(t)\n",
    "\n",
    "for t in threads:\n",
    "    t.join()\n",
    "    print(t)"
   ]
  },
  {
   "attachments": {},
   "cell_type": "markdown",
   "metadata": {},
   "source": [
    "## Threading Event\n",
    "有时，为了线程间通信，可以使用互斥锁(mutual exclusion lock(mutex))和一个boolean变量.更优雅的方式是使用threading模块的Event类。"
   ]
  },
  {
   "cell_type": "code",
   "execution_count": null,
   "metadata": {},
   "outputs": [],
   "source": [
    "from threading import Event \n",
    "event = Event()\n",
    "print(event.is_set())\n",
    "# event.set()\n",
    "# event.clear()\n",
    "# event.wait() # event.wait(timeout=5)"
   ]
  },
  {
   "cell_type": "code",
   "execution_count": 2,
   "metadata": {},
   "outputs": [
    {
     "name": "stdout",
     "output_type": "stream",
     "text": [
      "Thread 1 started. Waiting for the signal...\n",
      "Thread 2 started. Waiting for the signal...\n",
      "Blocking the main thread for 3 seconds...\n",
      "Received signal. Thre thread 1 was completedReceived signal. Thre thread 2 was completed\n",
      "\n"
     ]
    }
   ],
   "source": [
    "# Example\n",
    "from threading import Thread, Event \n",
    "from time import sleep \n",
    "\n",
    "def task(event:Event, id:int):\n",
    "    print(f'Thread {id} started. Waiting for the signal...')\n",
    "    event.wait()\n",
    "    print(f'Received signal. Thre thread {id} was completed')\n",
    "\n",
    "def main():\n",
    "    event = Event()\n",
    "    t1 = Thread(target=task, args=(event,1))\n",
    "    t2 = Thread(target=task, args=(event,2))\n",
    "    t1.start()\n",
    "    t2.start()\n",
    "\n",
    "    print('Blocking the main thread for 3 seconds...')\n",
    "    sleep(3)\n",
    "    event.set()\n",
    "\n",
    "if __name__ == '__main__':\n",
    "\n",
    "    main()"
   ]
  },
  {
   "attachments": {},
   "cell_type": "markdown",
   "metadata": {},
   "source": [
    "## 结束线程\n"
   ]
  },
  {
   "cell_type": "code",
   "execution_count": 1,
   "metadata": {},
   "outputs": [
    {
     "name": "stdout",
     "output_type": "stream",
     "text": [
      "Running #1\n",
      "Running #2\n",
      "Running #3\n",
      "The thread was stopped prematurely\n"
     ]
    }
   ],
   "source": [
    "from threading import Thread, Event\n",
    "from time import sleep \n",
    "\n",
    "def task(event: Event):\n",
    "    for i in range(6):\n",
    "        print(f'Running #{i+1}')\n",
    "        sleep(1)\n",
    "        if event.is_set():\n",
    "            print('The thread was stopped prematurely')\n",
    "            break\n",
    "    else:\n",
    "        print('The thread was stopped maturely.')\n",
    "\n",
    "def main():\n",
    "    event = Event()\n",
    "    thread = Thread(target=task, args=(event,))\n",
    "    thread.start()\n",
    "    sleep(3)\n",
    "    event.set()\n",
    "\n",
    "if __name__ == '__main__':\n",
    "    main()"
   ]
  },
  {
   "cell_type": "code",
   "execution_count": 2,
   "metadata": {},
   "outputs": [
    {
     "name": "stdout",
     "output_type": "stream",
     "text": [
      "Running #1\n",
      "Running #2\n",
      "Running #3\n",
      "Running #4\n"
     ]
    },
    {
     "name": "stdout",
     "output_type": "stream",
     "text": [
      "Thre thread was stopped prematurely\n"
     ]
    }
   ],
   "source": [
    "class Worker(Thread):\n",
    "    def __init__(self, event, *args, **kwargs):\n",
    "        super().__init__(*args, **kwargs)\n",
    "        self.event = event \n",
    "        \n",
    "    def run(self):\n",
    "        for i in range(6):\n",
    "            print(f'Running #{i+1}')\n",
    "            sleep(1)\n",
    "            if self.event.is_set():\n",
    "                print('Thre thread was stopped prematurely')\n",
    "                break \n",
    "        else:\n",
    "            print('The thread was stopped maturely')\n",
    "\n",
    "def main():\n",
    "    event = Event()\n",
    "    thread = Worker(event)\n",
    "    thread.start()\n",
    "    sleep(3)\n",
    "    event.set()\n",
    "\n",
    "if __name__ == '__main__':\n",
    "    main()"
   ]
  },
  {
   "attachments": {},
   "cell_type": "markdown",
   "metadata": {},
   "source": [
    "## 守护线程\n",
    "每个程序都至少有一个线程，main线程。通过threading模块可以创建多线程。为了让任务在后台执行，我们创建守护线程(daemon thread). \n"
   ]
  },
  {
   "cell_type": "code",
   "execution_count": null,
   "metadata": {},
   "outputs": [],
   "source": [
    "from threading import Thread \n",
    "import time \n",
    "\n",
    "def show_timer():\n",
    "    count = 0\n",
    "    while True:\n",
    "        count += 1\n",
    "        time.sleep(1)\n",
    "        print(f'Has been waiting for {count} second(s)...')\n",
    "\n",
    "t = Thread(target=show_timer) # non-daemon thread\n",
    "t.start()\n",
    "\n",
    "answer = input('Do you want to exit?\\n')\n",
    "# Needs to wait for all non-daemon threads to complete before it can exit.\n"
   ]
  },
  {
   "cell_type": "code",
   "execution_count": null,
   "metadata": {},
   "outputs": [],
   "source": [
    "from threading import Thread \n",
    "import time \n",
    "\n",
    "def show_timer():\n",
    "    count = 0\n",
    "    while True:\n",
    "        count += 1\n",
    "        time.sleep(1)\n",
    "        print(f'Has been waiting for {count} second(s)...')\n",
    "\n",
    "t = Thread(target=show_timer, daemon=True)\n",
    "t.start()\n",
    "\n",
    "answer = input('Do you want to exit?\\n')\n",
    "# doesn't need to wait for the daemon thread to complete. \n",
    "# The daemon thread is killed automatically when the program exits."
   ]
  },
  {
   "attachments": {},
   "cell_type": "markdown",
   "metadata": {},
   "source": [
    "## Thread-safe Queue\n",
    "queue.Queue实现了锁语义，可用于安全地交换数据。"
   ]
  },
  {
   "cell_type": "code",
   "execution_count": null,
   "metadata": {},
   "outputs": [],
   "source": [
    "from queue import Queue \n",
    "\n",
    "q = Queue() # Queue(maxsize=10)\n",
    "# q.add(item) # cannot add when q is full\n",
    "# q.put(item) # block until the q has space available.\n",
    "# q.put(item, timeout=3) # add an item to a size limited queue and block with a timeout\n",
    "item = q.get() # block until an item is available\n",
    "# q.get(block=False) # q.get(timeout=10)\n",
    "size = q.size()\n",
    "# q.empty()  # q.full()"
   ]
  },
  {
   "cell_type": "code",
   "execution_count": null,
   "metadata": {},
   "outputs": [],
   "source": [
    "item = q.get()\n",
    "# process the item\n",
    "q.task_done() # mark the item as completed\n",
    "\n",
    "q.join() # wait for all tasks on the queue to be completed"
   ]
  },
  {
   "cell_type": "code",
   "execution_count": 1,
   "metadata": {},
   "outputs": [
    {
     "name": "stdout",
     "output_type": "stream",
     "text": [
      "Inserting item 1 into the queue\n",
      "Inserting item 2 into the queueProcessing item 1\n",
      "\n",
      "Inserting item 3 into the queue\n",
      "Processing item 2\n",
      "Inserting item 4 into the queue\n",
      "Inserting item 5 into the queue\n",
      "Processing item 3\n",
      "Processing item 4\n",
      "Processing item 5\n"
     ]
    }
   ],
   "source": [
    "import time \n",
    "from queue import Empty, Queue \n",
    "from threading import Thread \n",
    "\n",
    "def producer(queue):\n",
    "    for i in range(1,6):\n",
    "        print(f'Inserting item {i} into the queue')\n",
    "        time.sleep(1)\n",
    "        queue.put(i)\n",
    "\n",
    "def consumer(queue):\n",
    "    while True:\n",
    "        try:\n",
    "            item = queue.get()\n",
    "        except Empty:\n",
    "            continue\n",
    "        else:\n",
    "            print(f'Processing item {item}')\n",
    "            time.sleep(2)\n",
    "            queue.task_done()\n",
    "\n",
    "def main():\n",
    "    queue = Queue()\n",
    "    producer_thread = Thread(target=producer, args=(queue,))\n",
    "    producer_thread.start()\n",
    "    consumer_thread = Thread(target=consumer,args=(queue,),daemon=True)\n",
    "    consumer_thread.start()\n",
    "\n",
    "    producer_thread.join() # wait for all tasks to be added to the queue\n",
    "    queue.join() # wait for all tasks on the queue to be completed\n",
    "\n",
    "if __name__ == '__main__':\n",
    "    main()"
   ]
  },
  {
   "attachments": {},
   "cell_type": "markdown",
   "metadata": {},
   "source": [
    "## ThreadPoolExecutor\n",
    "手动管理线程的方式不太高效，因为创建和销毁众多线程会浪费计算资源。这时要reuse threads."
   ]
  },
  {
   "attachments": {},
   "cell_type": "markdown",
   "metadata": {},
   "source": [
    "# Multiprocessing\n",
    "计算密集型用多进程"
   ]
  },
  {
   "cell_type": "code",
   "execution_count": 2,
   "metadata": {},
   "outputs": [
    {
     "name": "stdout",
     "output_type": "stream",
     "text": [
      "It took  6.84 seconds to finish\n"
     ]
    }
   ],
   "source": [
    "import time \n",
    "\n",
    "def task(n=100_000_000):\n",
    "    while n:\n",
    "        n -= 1\n",
    "\n",
    "if __name__ =='__main__':\n",
    "    start = time.perf_counter()\n",
    "    task()\n",
    "    task()\n",
    "    finish = time.perf_counter()\n",
    "    print(f'It took {finish-start: .2f} seconds to finish')"
   ]
  },
  {
   "cell_type": "code",
   "execution_count": 3,
   "metadata": {},
   "outputs": [
    {
     "name": "stdout",
     "output_type": "stream",
     "text": [
      "It took  3.48 seconds to finish\n"
     ]
    }
   ],
   "source": [
    "import multiprocessing\n",
    "\n",
    "if __name__ == '__main__':\n",
    "    start = time.perf_counter()\n",
    "    p1 = multiprocessing.Process(target=task)\n",
    "    p2 = multiprocessing.Process(target=task)\n",
    "    p1.start()\n",
    "    p2.start()\n",
    "    p1.join()\n",
    "    p2.join()\n",
    "    finish = time.perf_counter()\n",
    "    print(f'It took {finish-start: .2f} seconds to finish')"
   ]
  },
  {
   "attachments": {},
   "cell_type": "markdown",
   "metadata": {},
   "source": [
    "# Async I/O\n",
    "用asyncio可以在单线程里实现异步。\n",
    "## Event Loop\n",
    "在单线程并发模型里，我们只需要一个线程。在遇到I/O密集型任务时，我们把它交给操作系统的event notification系统，然后我们仍可以运行其他代码。\n",
    "## async await\n",
    "协程：用async关键字来创建协程，用await关键字来暂停协程。"
   ]
  },
  {
   "cell_type": "code",
   "execution_count": 4,
   "metadata": {},
   "outputs": [
    {
     "name": "stdout",
     "output_type": "stream",
     "text": [
      "<coroutine object square at 0x7f37c07b5d90>\n"
     ]
    }
   ],
   "source": [
    "async def square(number):\n",
    "    return number * number \n",
    "\n",
    "result = square(10)\n",
    "print(result)"
   ]
  },
  {
   "attachments": {},
   "cell_type": "markdown",
   "metadata": {},
   "source": [
    "上面并没有立即执行协程里的代码，而是返回一个协程对象。  \n",
    "协程需要在event loop上执行。python 3.7以后，可以用asyncio.run()来自动创建event loop,运行协程最后close它。"
   ]
  },
  {
   "cell_type": "code",
   "execution_count": null,
   "metadata": {},
   "outputs": [],
   "source": [
    "import asyncio \n",
    "\n",
    "async def square(number):\n",
    "    return number * number \n",
    "\n",
    "result = asyncio.run(square(10))\n",
    "print(result)"
   ]
  },
  {
   "attachments": {},
   "cell_type": "markdown",
   "metadata": {},
   "source": [
    "await可以暂停程序执行，直到协程返回结果。 注意await只能在协程里工作。"
   ]
  },
  {
   "cell_type": "code",
   "execution_count": null,
   "metadata": {},
   "outputs": [],
   "source": [
    "import asyncio\n",
    "\n",
    "async def square(number: int) -> int:\n",
    "    return number*number\n",
    "\n",
    "async def main():\n",
    "    x = await square(10)\n",
    "    print(x)\n",
    "\n",
    "    y = await square(5)\n",
    "    print(y)\n",
    "\n",
    "    print(f'total={x+y}')\n",
    "\n",
    "asyncio.run(main())"
   ]
  },
  {
   "attachments": {},
   "cell_type": "markdown",
   "metadata": {},
   "source": [
    "## asyncio.create_task()"
   ]
  },
  {
   "cell_type": "code",
   "execution_count": null,
   "metadata": {},
   "outputs": [],
   "source": [
    "import asyncio \n",
    "import time \n",
    "\n",
    "async def call_api(message, result=1000, delay=3):\n",
    "    print(message)\n",
    "    await asyncio.sleep(delay)\n",
    "    return result \n",
    "\n",
    "# async def main():\n",
    "#     start = time.perf_counter()\n",
    "#     price = await call_api('Get stock price of GOOG...',300)\n",
    "#     print(price)\n",
    "#     price = await call_api('Get price of APPL...',400)\n",
    "#     print(price)\n",
    "#     end = time.perf_counter()\n",
    "#     print(f'It took {end-start} seconds')\n",
    "\n",
    "# await 阻塞了整个协程。 如果不想阻塞，则用create_task()封装成Task\n",
    "async def main():\n",
    "    start = time.perf_counter()\n",
    "    task1 = asyncio.create_task(call_api('Get stock price of GOOG...',300))\n",
    "    task2 = asyncio.create_task(call_api('Get stock price of APPL...',400))\n",
    "    price = await task1\n",
    "    print(price)\n",
    "    price = await task2\n",
    "    print(price)\n",
    "    end = time.perf_counter()\n",
    "    print(f'It took {end-start} seconds')\n",
    "    \n",
    "asyncio.run(main())"
   ]
  },
  {
   "attachments": {},
   "cell_type": "markdown",
   "metadata": {},
   "source": [
    "## 取消任务\n",
    "如果任务运行时间太长，或永久运行，我们通常得取消它。"
   ]
  },
  {
   "cell_type": "code",
   "execution_count": null,
   "metadata": {},
   "outputs": [],
   "source": [
    "async def main():\n",
    "    task = asyncio.create_task(call_api('Calling api...', result=2000, delay=5))\n",
    "    if not task.done():\n",
    "        print('Cancelling the task...')\n",
    "        task.cancel()\n",
    "\n",
    "    try:\n",
    "        await task \n",
    "    except asyncio.CancelledError:\n",
    "        print(\"task has been cancelled.\")"
   ]
  },
  {
   "attachments": {},
   "cell_type": "markdown",
   "metadata": {},
   "source": [
    "## asyncio.wait_for()"
   ]
  },
  {
   "cell_type": "code",
   "execution_count": null,
   "metadata": {},
   "outputs": [],
   "source": [
    "async def main():\n",
    "    task = asyncio.create_task(call_api('Calling API...', result=2000, delay=5))\n",
    "    MAX_TIMEOUT = 3\n",
    "    try:\n",
    "        await asyncio.wait_for(task, timeout=MAX_TIMEOUT)\n",
    "    except asyncio.TimeoutError:\n",
    "        print('The task was cancelled due to a timeout')"
   ]
  },
  {
   "attachments": {},
   "cell_type": "markdown",
   "metadata": {},
   "source": [
    "## shield task\n",
    "asyncio.shiled() prevents the cancellation of a task.\n"
   ]
  },
  {
   "cell_type": "code",
   "execution_count": null,
   "metadata": {},
   "outputs": [],
   "source": [
    "async def main():\n",
    "    task = asyncio.create_task(call_api('Calling API...', result=2000, delay=5))\n",
    "    MAX_TIMEOUT = 3\n",
    "    try:\n",
    "        await asyncio.wait_for(asyncio.shield(task), timeout=MAX_TIMEOUT)\n",
    "    except asyncio.TimeoutError:\n",
    "        print(\"The task took mare than expected an will complete soon\")\n",
    "        result = await task\n",
    "        print(result)"
   ]
  },
  {
   "attachments": {},
   "cell_type": "markdown",
   "metadata": {},
   "source": [
    "## asyncio.wait()"
   ]
  },
  {
   "cell_type": "code",
   "execution_count": null,
   "metadata": {},
   "outputs": [],
   "source": [
    "import asyncio\n",
    "from asyncio import create_task\n",
    "\n",
    "\n",
    "class APIError(Exception):\n",
    "    pass\n",
    "\n",
    "\n",
    "async def call_api(message, result=100, delay=3, raise_exception=False):\n",
    "    print(message)\n",
    "    await asyncio.sleep(delay)\n",
    "    if raise_exception:\n",
    "        raise APIError\n",
    "    else:\n",
    "        return result\n",
    "\n",
    "\n",
    "async def main():\n",
    "    task_1 = create_task(call_api('calling API 1...', result=1, delay=1))\n",
    "    task_2 = create_task(call_api('calling API 2...', result=2, delay=2))\n",
    "    task_3 = create_task(call_api('calling API 3...', result=3, delay=3))\n",
    "\n",
    "    pending = (task_1, task_2, task_3)\n",
    "\n",
    "    while pending:\n",
    "        done, pending = await asyncio.wait(\n",
    "            pending,\n",
    "            return_when=asyncio.FIRST_COMPLETED\n",
    "        )\n",
    "        result = done.pop().result()\n",
    "        print(result)\n",
    "\n",
    "\n",
    "asyncio.run(main())"
   ]
  },
  {
   "attachments": {},
   "cell_type": "markdown",
   "metadata": {},
   "source": [
    "## Future\n",
    "Future,Coroutine,Task的对象都要用await关键字来执行。"
   ]
  },
  {
   "attachments": {},
   "cell_type": "markdown",
   "metadata": {},
   "source": [
    "## asyncio.gather()"
   ]
  },
  {
   "cell_type": "code",
   "execution_count": null,
   "metadata": {},
   "outputs": [],
   "source": [
    "import asyncio \n",
    "\n",
    "async def call_api(message, result, delay=3):\n",
    "    print(message)\n",
    "    await asyncio.sleep(delay)\n",
    "    return result\n",
    "\n",
    "async def main():\n",
    "    a,b = await asyncio.gather(call_api('Calling API 1 ...',100,1),call_api('Calling API 2 ...',200,2))\n",
    "    print(a,b)\n",
    "\n",
    "asyncio.run(main())"
   ]
  },
  {
   "cell_type": "code",
   "execution_count": null,
   "metadata": {},
   "outputs": [],
   "source": [
    "import asyncio\n",
    "\n",
    "\n",
    "class APIError(Exception):\n",
    "    def __init__(self, message):\n",
    "        self._message = message\n",
    "\n",
    "    def __str__(self):\n",
    "        return self._message\n",
    "\n",
    "\n",
    "async def call_api_failed():\n",
    "    await asyncio.sleep(3)\n",
    "    raise APIError('API failed')\n",
    "\n",
    "\n",
    "async def call_api(message, result, delay=3):\n",
    "    print(message)\n",
    "    await asyncio.sleep(delay)\n",
    "    return result\n",
    "\n",
    "\n",
    "async def main():\n",
    "    a, b, c = await asyncio.gather(\n",
    "        call_api('Calling API 1 ...', 100, 1),\n",
    "        call_api('Calling API 2 ...', 200, 2),\n",
    "        call_api_failed(),\n",
    "        return_exceptions=True\n",
    "    )\n",
    "    print(a, b, c)\n",
    "\n",
    "\n",
    "asyncio.run(main())"
   ]
  }
 ],
 "metadata": {
  "kernelspec": {
   "display_name": "venv",
   "language": "python",
   "name": "python3"
  },
  "language_info": {
   "codemirror_mode": {
    "name": "ipython",
    "version": 3
   },
   "file_extension": ".py",
   "mimetype": "text/x-python",
   "name": "python",
   "nbconvert_exporter": "python",
   "pygments_lexer": "ipython3",
   "version": "3.10.6"
  },
  "orig_nbformat": 4
 },
 "nbformat": 4,
 "nbformat_minor": 2
}
